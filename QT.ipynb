{
 "cells": [
  {
   "cell_type": "code",
   "execution_count": 1,
   "id": "51b5f366",
   "metadata": {},
   "outputs": [
    {
     "ename": "SystemExit",
     "evalue": "0",
     "output_type": "error",
     "traceback": [
      "An exception has occurred, use %tb to see the full traceback.\n",
      "\u001b[1;31mSystemExit\u001b[0m\u001b[1;31m:\u001b[0m 0\n"
     ]
    },
    {
     "name": "stderr",
     "output_type": "stream",
     "text": [
      "c:\\users\\bl888078\\appdata\\local\\programs\\python\\python39\\lib\\site-packages\\IPython\\core\\interactiveshell.py:3445: UserWarning: To exit: use 'exit', 'quit', or Ctrl-D.\n",
      "  warn(\"To exit: use 'exit', 'quit', or Ctrl-D.\", stacklevel=1)\n"
     ]
    }
   ],
   "source": [
    "import sys\n",
    "from PyQt5.QtCore import *\n",
    "from PyQt5.QtGui import *\n",
    "from PyQt5.QtWidgets import *\n",
    "def window():\n",
    "   app = QApplication(sys.argv)\n",
    "   w = QWidget()\n",
    "   b = QLabel(w)\n",
    "   b.setText(\"Hello World!\")\n",
    "   w.setGeometry(100,100,200,50)\n",
    "   b.move(50,20)\n",
    "   w.setWindowTitle(\"PyQt5\")\n",
    "   w.show()\n",
    "   sys.exit(app.exec_())\n",
    "if __name__ == '__main__':\n",
    "   window()"
   ]
  },
  {
   "cell_type": "code",
   "execution_count": 2,
   "id": "24f0f7e5",
   "metadata": {},
   "outputs": [
    {
     "ename": "SystemExit",
     "evalue": "0",
     "output_type": "error",
     "traceback": [
      "An exception has occurred, use %tb to see the full traceback.\n",
      "\u001b[1;31mSystemExit\u001b[0m\u001b[1;31m:\u001b[0m 0\n"
     ]
    }
   ],
   "source": [
    "import sys\n",
    "from PyQt5.QtCore import *\n",
    "from PyQt5.QtGui import *\n",
    "from PyQt5.QtWidgets import *\n",
    "class window(QWidget):\n",
    "   def __init__(self, parent = None):\n",
    "      super(window, self).__init__(parent)\n",
    "      self.resize(200,50)\n",
    "      self.setWindowTitle(\"PyQt5\")\n",
    "      self.label = QLabel(self)\n",
    "      self.label.setText(\"Hello World\")\n",
    "      font = QFont()\n",
    "      font.setFamily(\"Arial\")\n",
    "      font.setPointSize(16)\n",
    "      self.label.setFont(font)\n",
    "      self.label.move(50,20)\n",
    "def main():\n",
    "   app = QApplication(sys.argv)\n",
    "   ex = window()\n",
    "   ex.show()\n",
    "   sys.exit(app.exec_())\n",
    "if __name__ == '__main__':\n",
    "   main()"
   ]
  },
  {
   "cell_type": "code",
   "execution_count": 3,
   "id": "07c5d4d4",
   "metadata": {},
   "outputs": [
    {
     "name": "stdout",
     "output_type": "stream",
     "text": [
      "Button 1 clicked\n",
      "Button 2 clicked\n"
     ]
    },
    {
     "ename": "SystemExit",
     "evalue": "0",
     "output_type": "error",
     "traceback": [
      "An exception has occurred, use %tb to see the full traceback.\n",
      "\u001b[1;31mSystemExit\u001b[0m\u001b[1;31m:\u001b[0m 0\n"
     ]
    }
   ],
   "source": [
    "import sys\n",
    "from PyQt5.QtCore import *\n",
    "from PyQt5.QtGui import *\n",
    "from PyQt5.QtWidgets import *\n",
    "\n",
    "def window():\n",
    "   app = QApplication(sys.argv)\n",
    "   win = QDialog()\n",
    "   b1 = QPushButton(win)\n",
    "   b1.setText(\"Button1\")\n",
    "   b1.move(50,20)\n",
    "   b1.clicked.connect(b1_clicked)\n",
    "   \n",
    "   b2 = QPushButton(win)\n",
    "   b2.setText(\"Button2\")\n",
    "   b2.move(50,50)\n",
    "   b2.clicked.connect(b2_clicked)\n",
    "   \n",
    "   win.setGeometry(100,100,200,100)\n",
    "\n",
    "   win.setWindowTitle(\"PyQt5\")\n",
    "   win.show()\n",
    "   sys.exit(app.exec_())\n",
    "\n",
    "def b1_clicked():\n",
    "   print (\"Button 1 clicked\")\n",
    "\n",
    "def b2_clicked():\n",
    "   print (\"Button 2 clicked\")\n",
    "\n",
    "if __name__ == '__main__':\n",
    "   window()\n"
   ]
  },
  {
   "cell_type": "code",
   "execution_count": 7,
   "id": "78b028c4",
   "metadata": {},
   "outputs": [
    {
     "ename": "AttributeError",
     "evalue": "module 'PyQt5.QtGui' has no attribute 'QApplication'",
     "output_type": "error",
     "traceback": [
      "\u001b[1;31m---------------------------------------------------------------------------\u001b[0m",
      "\u001b[1;31mAttributeError\u001b[0m                            Traceback (most recent call last)",
      "\u001b[1;32m<ipython-input-7-0d7dd9899fba>\u001b[0m in \u001b[0;36m<module>\u001b[1;34m\u001b[0m\n\u001b[0;32m     13\u001b[0m    \u001b[0msys\u001b[0m\u001b[1;33m.\u001b[0m\u001b[0mexit\u001b[0m\u001b[1;33m(\u001b[0m\u001b[0mapp\u001b[0m\u001b[1;33m.\u001b[0m\u001b[0mexec_\u001b[0m\u001b[1;33m(\u001b[0m\u001b[1;33m)\u001b[0m\u001b[1;33m)\u001b[0m\u001b[1;33m\u001b[0m\u001b[1;33m\u001b[0m\u001b[0m\n\u001b[0;32m     14\u001b[0m \u001b[1;32mif\u001b[0m \u001b[0m__name__\u001b[0m \u001b[1;33m==\u001b[0m \u001b[1;34m'__main__'\u001b[0m\u001b[1;33m:\u001b[0m\u001b[1;33m\u001b[0m\u001b[1;33m\u001b[0m\u001b[0m\n\u001b[1;32m---> 15\u001b[1;33m    \u001b[0mwindow\u001b[0m\u001b[1;33m(\u001b[0m\u001b[1;33m)\u001b[0m\u001b[1;33m\u001b[0m\u001b[1;33m\u001b[0m\u001b[0m\n\u001b[0m",
      "\u001b[1;32m<ipython-input-7-0d7dd9899fba>\u001b[0m in \u001b[0;36mwindow\u001b[1;34m()\u001b[0m\n\u001b[0;32m      3\u001b[0m \u001b[1;33m\u001b[0m\u001b[0m\n\u001b[0;32m      4\u001b[0m \u001b[1;32mdef\u001b[0m \u001b[0mwindow\u001b[0m\u001b[1;33m(\u001b[0m\u001b[1;33m)\u001b[0m\u001b[1;33m:\u001b[0m\u001b[1;33m\u001b[0m\u001b[1;33m\u001b[0m\u001b[0m\n\u001b[1;32m----> 5\u001b[1;33m    \u001b[0mapp\u001b[0m \u001b[1;33m=\u001b[0m \u001b[0mQtGui\u001b[0m\u001b[1;33m.\u001b[0m\u001b[0mQApplication\u001b[0m\u001b[1;33m(\u001b[0m\u001b[0msys\u001b[0m\u001b[1;33m.\u001b[0m\u001b[0margv\u001b[0m\u001b[1;33m)\u001b[0m\u001b[1;33m\u001b[0m\u001b[1;33m\u001b[0m\u001b[0m\n\u001b[0m\u001b[0;32m      6\u001b[0m    \u001b[0mw\u001b[0m \u001b[1;33m=\u001b[0m \u001b[0mQtGui\u001b[0m\u001b[1;33m.\u001b[0m\u001b[0mQWidget\u001b[0m\u001b[1;33m(\u001b[0m\u001b[1;33m)\u001b[0m\u001b[1;33m\u001b[0m\u001b[1;33m\u001b[0m\u001b[0m\n\u001b[0;32m      7\u001b[0m    \u001b[0mb\u001b[0m \u001b[1;33m=\u001b[0m \u001b[0mQtGui\u001b[0m\u001b[1;33m.\u001b[0m\u001b[0mQPushButton\u001b[0m\u001b[1;33m(\u001b[0m\u001b[0mw\u001b[0m\u001b[1;33m)\u001b[0m\u001b[1;33m\u001b[0m\u001b[1;33m\u001b[0m\u001b[0m\n",
      "\u001b[1;31mAttributeError\u001b[0m: module 'PyQt5.QtGui' has no attribute 'QApplication'"
     ]
    }
   ],
   "source": [
    "import sys\n",
    "from PyQt5 import QtGui\n",
    "\n",
    "def window():\n",
    "   app = QtGui.QApplication(sys.argv)\n",
    "   w = QtGui.QWidget()\n",
    "   b = QtGui.QPushButton(w)\n",
    "   b.setText(\"Hello World!\")\n",
    "   b.move(50,20)\n",
    "   w.setGeometry(10,10,300,200)\n",
    "   w.setWindowTitle(\"PyQt\")\n",
    "   w.show()\n",
    "   sys.exit(app.exec_())\n",
    "if __name__ == '__main__':\n",
    "   window()\n"
   ]
  },
  {
   "cell_type": "code",
   "execution_count": 1,
   "id": "71025993",
   "metadata": {},
   "outputs": [
    {
     "ename": "SystemExit",
     "evalue": "0",
     "output_type": "error",
     "traceback": [
      "An exception has occurred, use %tb to see the full traceback.\n",
      "\u001b[1;31mSystemExit\u001b[0m\u001b[1;31m:\u001b[0m 0\n"
     ]
    },
    {
     "name": "stderr",
     "output_type": "stream",
     "text": [
      "c:\\users\\bl888078\\appdata\\local\\programs\\python\\python39\\lib\\site-packages\\IPython\\core\\interactiveshell.py:3445: UserWarning: To exit: use 'exit', 'quit', or Ctrl-D.\n",
      "  warn(\"To exit: use 'exit', 'quit', or Ctrl-D.\", stacklevel=1)\n"
     ]
    }
   ],
   "source": [
    "import sys\n",
    "from PyQt5.QtCore import *\n",
    "from PyQt5.QtGui import *\n",
    "from PyQt5.QtWidgets import *\n",
    "\n",
    "def window():\n",
    "   app = QApplication(sys.argv)\n",
    "   w = QWidget()\n",
    "   btn = QPushButton(w)\n",
    "   btn.setText(\"Hello World!\")\n",
    "   btn.move(100,50)\n",
    "   btn.clicked.connect(showdialog)\n",
    "   w.setWindowTitle(\"PyQt Dialog demo\")\n",
    "   w.show()\n",
    "   sys.exit(app.exec_())\n",
    "\n",
    "def showdialog():\n",
    "   dlg = QDialog()\n",
    "   b1 = QPushButton(\"ok\",dlg)\n",
    "   b1.move(50,50)\n",
    "   dlg.setWindowTitle(\"Dialog\")\n",
    "   dlg.setWindowModality(Qt.ApplicationModal)\n",
    "   dlg.exec_()\n",
    "\n",
    "if __name__ == '__main__':\n",
    "   window()"
   ]
  },
  {
   "cell_type": "code",
   "execution_count": 2,
   "id": "d24cdf77",
   "metadata": {},
   "outputs": [
    {
     "name": "stdout",
     "output_type": "stream",
     "text": [
      "Button pressed is: OK\n"
     ]
    },
    {
     "ename": "SystemExit",
     "evalue": "0",
     "output_type": "error",
     "traceback": [
      "An exception has occurred, use %tb to see the full traceback.\n",
      "\u001b[1;31mSystemExit\u001b[0m\u001b[1;31m:\u001b[0m 0\n"
     ]
    }
   ],
   "source": [
    "import sys\n",
    "from PyQt5.QtCore import *\n",
    "from PyQt5.QtGui import *\n",
    "from PyQt5.QtWidgets import *\n",
    "\n",
    "def window():\n",
    "   app = QApplication(sys.argv)\n",
    "   w = QWidget()\n",
    "   b = QPushButton(w)\n",
    "   b.setText(\"Show message!\")\n",
    "   \n",
    "   b.move(100,50)\n",
    "   b.clicked.connect(showdialog)\n",
    "   w.setWindowTitle(\"PyQt MessageBox demo\")\n",
    "   w.show()\n",
    "   sys.exit(app.exec_())\n",
    "\n",
    "def showdialog():\n",
    "   msg = QMessageBox()\n",
    "   msg.setIcon(QMessageBox.Information)\n",
    "   \n",
    "   msg.setText(\"This is a message box\")\n",
    "   msg.setInformativeText(\"This is additional information\")\n",
    "   msg.setWindowTitle(\"MessageBox demo\")\n",
    "   msg.setDetailedText(\"The details are as follows:\")\n",
    "   msg.setStandardButtons(QMessageBox.Ok | QMessageBox.Cancel)\n",
    "   msg.buttonClicked.connect(msgbtn)\n",
    "\n",
    "   retval = msg.exec_()\n",
    "\n",
    "def msgbtn(i):\n",
    "   print (\"Button pressed is:\",i.text())\n",
    "\n",
    "if __name__ == '__main__':\n",
    "   window()\n"
   ]
  },
  {
   "cell_type": "code",
   "execution_count": 3,
   "id": "5bc99b0d",
   "metadata": {},
   "outputs": [
    {
     "name": "stdout",
     "output_type": "stream",
     "text": [
      "triggered\n",
      "triggered\n",
      "triggered\n",
      "triggered\n",
      "triggered\n",
      "triggered\n"
     ]
    },
    {
     "ename": "SystemExit",
     "evalue": "0",
     "output_type": "error",
     "traceback": [
      "An exception has occurred, use %tb to see the full traceback.\n",
      "\u001b[1;31mSystemExit\u001b[0m\u001b[1;31m:\u001b[0m 0\n"
     ]
    }
   ],
   "source": [
    "import sys\n",
    "from PyQt5.QtCore import *\n",
    "from PyQt5.QtGui import *\n",
    "from PyQt5.QtWidgets import *\n",
    "\n",
    "class MainWindow(QMainWindow):\n",
    "   count = 0\n",
    "\n",
    "   def __init__(self, parent = None):\n",
    "      super(MainWindow, self).__init__(parent)\n",
    "      self.mdi = QMdiArea()\n",
    "      self.setCentralWidget(self.mdi)\n",
    "      bar = self.menuBar()\n",
    "\n",
    "      file = bar.addMenu(\"File\")\n",
    "      file.addAction(\"New\")\n",
    "      file.addAction(\"cascade\")\n",
    "      file.addAction(\"Tiled\")\n",
    "      file.triggered[QAction].connect(self.windowaction)\n",
    "      self.setWindowTitle(\"MDI demo\")\n",
    "\n",
    "   def windowaction(self, q):\n",
    "      print (\"triggered\")\n",
    "   \n",
    "      if q.text() == \"New\":\n",
    "         MainWindow.count = MainWindow.count+1\n",
    "         sub = QMdiSubWindow()\n",
    "         sub.setWidget(QTextEdit())\n",
    "         sub.setWindowTitle(\"subwindow\"+str(MainWindow.count))\n",
    "         self.mdi.addSubWindow(sub)\n",
    "         sub.show()\n",
    "\n",
    "      if q.text() == \"cascade\":\n",
    "         self.mdi.cascadeSubWindows()\n",
    "\n",
    "      if q.text() == \"Tiled\":\n",
    "         self.mdi.tileSubWindows()\n",
    "\n",
    "def main():\n",
    "   app = QApplication(sys.argv)\n",
    "   ex = MainWindow()\n",
    "   ex.show()\n",
    "   sys.exit(app.exec_())\n",
    "\n",
    "if __name__ == '__main__':\n",
    "   main()\n"
   ]
  },
  {
   "cell_type": "code",
   "execution_count": null,
   "id": "69808337",
   "metadata": {},
   "outputs": [
    {
     "name": "stdout",
     "output_type": "stream",
     "text": [
      "<PyQt5.QtGui.QDragEnterEvent object at 0x000001B3D5B1A790>\n",
      "<PyQt5.QtGui.QDragEnterEvent object at 0x000001B3D68B3670>\n",
      "<PyQt5.QtGui.QDragEnterEvent object at 0x000001B3D68B34C0>\n",
      "<PyQt5.QtGui.QDragEnterEvent object at 0x000001B3D68B3670>\n"
     ]
    }
   ],
   "source": [
    "import sys\n",
    "from PyQt5.QtCore import *\n",
    "from PyQt5.QtGui import *\n",
    "from PyQt5.QtWidgets import *\n",
    "\n",
    "class combo(QComboBox):\n",
    "   def __init__(self, title, parent):\n",
    "      super(combo, self).__init__( parent)\n",
    "      self.setAcceptDrops(True)\n",
    "\n",
    "   def dragEnterEvent(self, e):\n",
    "      print (e)\n",
    "\n",
    "      if e.mimeData().hasText():\n",
    "         e.accept()\n",
    "      else:\n",
    "         e.ignore()\n",
    "\n",
    "   def dropEvent(self, e):\n",
    "      self.addItem(e.mimeData().text())\n",
    "\n",
    "class Example(QWidget):\n",
    "   def __init__(self):\n",
    "      super(Example, self).__init__()\n",
    "\n",
    "      self.initUI()\n",
    "\n",
    "   def initUI(self):\n",
    "      lo = QFormLayout()\n",
    "      lo.addRow(QLabel(\"Type some text in textbox and drag it into combo box\"))\n",
    "   \n",
    "      edit = QLineEdit()\n",
    "      edit.setDragEnabled(True)\n",
    "      com = combo(\"Button\", self)\n",
    "      lo.addRow(edit,com)\n",
    "      self.setLayout(lo)\n",
    "      self.setWindowTitle('Simple drag and drop')\n",
    "def main():\n",
    "   app = QApplication(sys.argv)\n",
    "   ex = Example()\n",
    "   ex.show()\n",
    "   app.exec_()\n",
    "\n",
    "if __name__ == '__main__':\n",
    "   main()\n"
   ]
  },
  {
   "cell_type": "code",
   "execution_count": 1,
   "id": "fa123721",
   "metadata": {},
   "outputs": [
    {
     "ename": "SystemExit",
     "evalue": "0",
     "output_type": "error",
     "traceback": [
      "An exception has occurred, use %tb to see the full traceback.\n",
      "\u001b[1;31mSystemExit\u001b[0m\u001b[1;31m:\u001b[0m 0\n"
     ]
    },
    {
     "name": "stderr",
     "output_type": "stream",
     "text": [
      "c:\\users\\bl888078\\appdata\\local\\programs\\python\\python39\\lib\\site-packages\\IPython\\core\\interactiveshell.py:3445: UserWarning: To exit: use 'exit', 'quit', or Ctrl-D.\n",
      "  warn(\"To exit: use 'exit', 'quit', or Ctrl-D.\", stacklevel=1)\n"
     ]
    }
   ],
   "source": [
    "import sys\n",
    "from PyQt5.QtCore import *\n",
    "from PyQt5.QtGui import *\n",
    "from PyQt5.QtWidgets import *\n",
    "\n",
    "class Example(QWidget):\n",
    "   def __init__(self):\n",
    "      super(Example, self).__init__()\n",
    "      self.initUI()\n",
    "\n",
    "   def initUI(self):\n",
    "      self.text = \"hello world\"\n",
    "      self.setGeometry(100,100, 400,300)\n",
    "      self.setWindowTitle('Draw Demo')\n",
    "      self.show()\n",
    "\n",
    "   def paintEvent(self, event):\n",
    "      qp = QPainter()\n",
    "      qp.begin(self)\n",
    "      qp.setPen(QColor(Qt.red))\n",
    "      qp.setFont(QFont('Arial', 20))\n",
    "      qp.drawText(10,50, \"hello Python\")\n",
    "      qp.setPen(QColor(Qt.blue))\n",
    "      qp.drawLine(10,100,100,100)\n",
    "      qp.drawRect(10,150,150,100)\n",
    "      qp.setPen(QColor(Qt.yellow))\n",
    "      qp.drawEllipse(100,50,100,50)\n",
    "      qp.drawPixmap(220,10,QPixmap(\"pythonlogo.png\"))\n",
    "      qp.fillRect(20,175,130,70,QBrush(Qt.SolidPattern))\n",
    "      qp.end()\n",
    "\n",
    "def main():\n",
    "   app = QApplication(sys.argv)\n",
    "   ex = Example()\n",
    "   sys.exit(app.exec_())\n",
    "\n",
    "if __name__ == '__main__':\n",
    "   main()\n"
   ]
  },
  {
   "cell_type": "code",
   "execution_count": 1,
   "id": "49d961d0",
   "metadata": {
    "scrolled": true
   },
   "outputs": [
    {
     "name": "stdout",
     "output_type": "stream",
     "text": [
      "asas\n"
     ]
    },
    {
     "ename": "SystemExit",
     "evalue": "0",
     "output_type": "error",
     "traceback": [
      "An exception has occurred, use %tb to see the full traceback.\n",
      "\u001b[1;31mSystemExit\u001b[0m\u001b[1;31m:\u001b[0m 0\n"
     ]
    },
    {
     "name": "stderr",
     "output_type": "stream",
     "text": [
      "c:\\users\\bl888078\\appdata\\local\\programs\\python\\python39\\lib\\site-packages\\IPython\\core\\interactiveshell.py:3445: UserWarning: To exit: use 'exit', 'quit', or Ctrl-D.\n",
      "  warn(\"To exit: use 'exit', 'quit', or Ctrl-D.\", stacklevel=1)\n"
     ]
    }
   ],
   "source": [
    "import sys\n",
    "from PyQt5.QtCore import *\n",
    "from PyQt5.QtGui import *\n",
    "from PyQt5.QtWidgets import *\n",
    "\n",
    "class Example(QWidget):\n",
    "   def __init__(self):\n",
    "      super(Example, self).__init__()\n",
    "\n",
    "      self.initUI()\n",
    "\n",
    "   def initUI(self):\n",
    "      hbox = QVBoxLayout()\n",
    "      self.edit1=QTextEdit()\n",
    "      hbox.addWidget(self.edit1)\n",
    "      self.btn1=QPushButton(\"Copy\")\n",
    "      hbox.addWidget(self.btn1)\n",
    "      self.edit2=QTextEdit()\n",
    "      self.btn2=QPushButton(\"Paste\")\n",
    "      hbox.addWidget(self.edit2)\n",
    "      hbox.addWidget(self.btn2)\n",
    "      self.btn1.clicked.connect(self.copytext)\n",
    "      self.btn2.clicked.connect(self.pastetext)\n",
    "      self.setLayout(hbox)\n",
    "      \n",
    "      self.setGeometry(300, 300, 300, 200)\n",
    "      self.setWindowTitle('Clipboard')\n",
    "      self.show()\n",
    "      \n",
    "   def copytext(self):\n",
    "\n",
    "      #clipboard.setText(self.edit1.copy())\n",
    "      self.edit1.copy()\n",
    "      print (clipboard.text())\n",
    "\n",
    "      msg=QMessageBox()\n",
    "      msg.setText(clipboard.text()+\" copied on clipboard\")\n",
    "      msg.exec_()\n",
    "\n",
    "   def pastetext(self):\n",
    "      self.edit2.setText(clipboard.text())\n",
    "\n",
    "app = QApplication(sys.argv)\n",
    "clipboard=app.clipboard()\n",
    "ex = Example()\n",
    "ex.setWindowTitle(\"clipboard Example\")\n",
    "sys.exit(app.exec_())"
   ]
  },
  {
   "cell_type": "code",
   "execution_count": 3,
   "id": "6ebe5a60",
   "metadata": {},
   "outputs": [
    {
     "ename": "SystemExit",
     "evalue": "0",
     "output_type": "error",
     "traceback": [
      "An exception has occurred, use %tb to see the full traceback.\n",
      "\u001b[1;31mSystemExit\u001b[0m\u001b[1;31m:\u001b[0m 0\n"
     ]
    }
   ],
   "source": [
    "import sys\n",
    "from PyQt5.QtCore import *\n",
    "from PyQt5.QtGui import *\n",
    "from PyQt5.QtWidgets import *\n",
    "\n",
    "def window():\n",
    "   app = QApplication(sys.argv)\n",
    "   win = QWidget()\n",
    "   l1 = QLabel()\n",
    "   l1.setPixmap(QPixmap(\"download.jpg\"))\n",
    "\n",
    "   vbox = QVBoxLayout()\n",
    "   vbox.addWidget(l1)\n",
    "   win.setLayout(vbox)\n",
    "   win.setWindowTitle(\"QPixmap Demo\")\n",
    "   win.show()\n",
    "   sys.exit(app.exec_())\n",
    "\n",
    "if __name__ == '__main__':\n",
    "   window()\n"
   ]
  },
  {
   "cell_type": "code",
   "execution_count": null,
   "id": "9dbf7997",
   "metadata": {},
   "outputs": [],
   "source": [
    "import sys\n",
    "from PyQt5.QtSql import *\n",
    "from PyQt5.QtCore import *\n",
    "from PyQt5.QtGui import *\n",
    "from PyQt5.QtWidgets import *\n",
    "\n",
    "def createDB():\n",
    "   db = QSqlDatabase.addDatabase('QSQLITE')\n",
    "   db.setDatabaseName('sportsdatabase.db')\n",
    "\n",
    "   if not db.open():\n",
    "      msg = QMessageBox()\n",
    "      msg.setIcon(QMessageBox.Critical)\n",
    "      msg.setText(\"Error in Database Creation\")\n",
    "      retval = msg.exec_()\n",
    "      return False\n",
    "   query = QSqlQuery()\n",
    "\n",
    "   query.exec_(\"create table sportsmen(id int primary key, \"\"firstname varchar(20), lastname varchar(20))\")\n",
    "\n",
    "   query.exec_(\"insert into sportsmen values(101, 'Roger', 'Federer')\")\n",
    "   query.exec_(\"insert into sportsmen values(102, 'Christiano', 'Ronaldo')\")\n",
    "   query.exec_(\"insert into sportsmen values(103, 'Ussain', 'Bolt')\")\n",
    "   query.exec_(\"insert into sportsmen values(104, 'Sachin', 'Tendulkar')\")\n",
    "   query.exec_(\"insert into sportsmen values(105, 'Saina', 'Nehwal')\")\n",
    "   return True\n",
    "\n",
    "if __name__ == '__main__':\n",
    "   app = QApplication(sys.argv)\n",
    "   createDB()\n"
   ]
  },
  {
   "cell_type": "code",
   "execution_count": 1,
   "id": "6f84e4ea",
   "metadata": {},
   "outputs": [
    {
     "name": "stdout",
     "output_type": "stream",
     "text": [
      "0\n",
      "True\n",
      "1\n",
      "False\n",
      "1\n",
      "False\n",
      "1\n",
      "False\n",
      "1\n",
      "False\n",
      "1\n",
      "False\n",
      "1\n",
      "False\n"
     ]
    },
    {
     "ename": "SystemExit",
     "evalue": "0",
     "output_type": "error",
     "traceback": [
      "An exception has occurred, use %tb to see the full traceback.\n",
      "\u001b[1;31mSystemExit\u001b[0m\u001b[1;31m:\u001b[0m 0\n"
     ]
    },
    {
     "name": "stderr",
     "output_type": "stream",
     "text": [
      "c:\\users\\bl888078\\appdata\\local\\programs\\python\\python39\\lib\\site-packages\\IPython\\core\\interactiveshell.py:3445: UserWarning: To exit: use 'exit', 'quit', or Ctrl-D.\n",
      "  warn(\"To exit: use 'exit', 'quit', or Ctrl-D.\", stacklevel=1)\n"
     ]
    }
   ],
   "source": [
    "import sys\n",
    "from PyQt5.QtSql import *\n",
    "from PyQt5.QtCore import *\n",
    "from PyQt5.QtGui import *\n",
    "from PyQt5.QtWidgets import *\n",
    "\n",
    "def initializeModel(model):\n",
    "   model.setTable('sportsmen')\n",
    "   model.setEditStrategy(QSqlTableModel.OnFieldChange)\n",
    "   model.select()\n",
    "   model.setHeaderData(0, Qt.Horizontal, \"ID\")\n",
    "   model.setHeaderData(1, Qt.Horizontal, \"First name\")\n",
    "   model.setHeaderData(2, Qt.Horizontal, \"Last name\")\n",
    "\n",
    "def createView(title, model):\n",
    "   view = QTableView()\n",
    "   view.setModel(model)\n",
    "   view.setWindowTitle(title)\n",
    "   return view\n",
    "\n",
    "def addrow():\n",
    "   print (model.rowCount())\n",
    "   ret = model.insertRows(model.rowCount(), 1)\n",
    "   print (ret)\n",
    "\n",
    "def findrow(i):\n",
    "   delrow = i.row()\n",
    "\n",
    "if __name__ == '__main__':\n",
    "   app = QApplication(sys.argv)\n",
    "   db = QSqlDatabase.addDatabase('QSQLITE')\n",
    "   db.setDatabaseName('sportsdatabase.db')\n",
    "   model = QSqlTableModel()\n",
    "   delrow = -1\n",
    "   initializeModel(model)\n",
    "\n",
    "   view1 = createView(\"Table Model (View 1)\", model)\n",
    "   view1.clicked.connect(findrow)\n",
    "\n",
    "   dlg = QDialog()\n",
    "   layout = QVBoxLayout()\n",
    "   layout.addWidget(view1)\n",
    "\n",
    "   button = QPushButton(\"Add a row\")\n",
    "   button.clicked.connect(addrow)\n",
    "   layout.addWidget(button)\n",
    "\n",
    "   btn1 = QPushButton(\"del a row\")\n",
    "   btn1.clicked.connect(lambda: model.removeRow(view1.currentIndex().row()))\n",
    "   layout.addWidget(btn1)\n",
    "\n",
    "   dlg.setLayout(layout)\n",
    "   dlg.setWindowTitle(\"Database Demo\")\n",
    "   dlg.show()\n",
    "   sys.exit(app.exec_())\n"
   ]
  },
  {
   "cell_type": "code",
   "execution_count": 2,
   "id": "37c6be11",
   "metadata": {},
   "outputs": [
    {
     "ename": "ModuleNotFoundError",
     "evalue": "No module named 'gi'",
     "output_type": "error",
     "traceback": [
      "\u001b[1;31m---------------------------------------------------------------------------\u001b[0m",
      "\u001b[1;31mModuleNotFoundError\u001b[0m                       Traceback (most recent call last)",
      "\u001b[1;32m<ipython-input-2-3dcf8ac01ca5>\u001b[0m in \u001b[0;36m<module>\u001b[1;34m\u001b[0m\n\u001b[1;32m----> 1\u001b[1;33m \u001b[1;32mimport\u001b[0m \u001b[0mgi\u001b[0m\u001b[1;33m\u001b[0m\u001b[1;33m\u001b[0m\u001b[0m\n\u001b[0m\u001b[0;32m      2\u001b[0m \u001b[0mgi\u001b[0m\u001b[1;33m.\u001b[0m\u001b[0mrequire_version\u001b[0m\u001b[1;33m(\u001b[0m\u001b[1;34m\"Gtk\"\u001b[0m\u001b[1;33m,\u001b[0m \u001b[1;34m\"3.0\"\u001b[0m\u001b[1;33m)\u001b[0m\u001b[1;33m\u001b[0m\u001b[1;33m\u001b[0m\u001b[0m\n\u001b[0;32m      3\u001b[0m \u001b[1;32mfrom\u001b[0m \u001b[0mgi\u001b[0m\u001b[1;33m.\u001b[0m\u001b[0mrepository\u001b[0m \u001b[1;32mimport\u001b[0m \u001b[0mGtk\u001b[0m\u001b[1;33m\u001b[0m\u001b[1;33m\u001b[0m\u001b[0m\n\u001b[0;32m      4\u001b[0m \u001b[1;33m\u001b[0m\u001b[0m\n\u001b[0;32m      5\u001b[0m \u001b[1;32mdef\u001b[0m \u001b[0mon_activate\u001b[0m\u001b[1;33m(\u001b[0m\u001b[0mapp\u001b[0m\u001b[1;33m)\u001b[0m\u001b[1;33m:\u001b[0m\u001b[1;33m\u001b[0m\u001b[1;33m\u001b[0m\u001b[0m\n",
      "\u001b[1;31mModuleNotFoundError\u001b[0m: No module named 'gi'"
     ]
    }
   ],
   "source": [
    "import gi\n",
    "gi.require_version(\"Gtk\", \"3.0\")\n",
    "from gi.repository import Gtk\n",
    "\n",
    "def on_activate(app):\n",
    "    win = Gtk.ApplicationWindow(application=app)\n",
    "    btn = Gtk.Button(label=\"Hello, World!\")\n",
    "    btn.connect('clicked', lambda x: win.close())\n",
    "    win.add(btn)\n",
    "    win.show_all()\n",
    "\n",
    "app = Gtk.Application(application_id='org.gtk.Example')\n",
    "app.connect('activate', on_activate)\n",
    "app.run(None)"
   ]
  }
 ],
 "metadata": {
  "kernelspec": {
   "display_name": "Python 3",
   "language": "python",
   "name": "python3"
  },
  "language_info": {
   "codemirror_mode": {
    "name": "ipython",
    "version": 3
   },
   "file_extension": ".py",
   "mimetype": "text/x-python",
   "name": "python",
   "nbconvert_exporter": "python",
   "pygments_lexer": "ipython3",
   "version": "3.9.0"
  }
 },
 "nbformat": 4,
 "nbformat_minor": 5
}
