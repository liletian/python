{
 "cells": [
  {
   "cell_type": "code",
   "execution_count": 1,
   "metadata": {},
   "outputs": [
    {
     "name": "stdout",
     "output_type": "stream",
     "text": [
      "Image Properties\n",
      "- Number of Pixels: 322404\n",
      "- Shape/Dimensions: (401, 268, 3)\n",
      "(401, 268)\n"
     ]
    }
   ],
   "source": [
    "import cv2\n",
    "\n",
    "image = cv2.imread('C:/Users/jackl/Desktop/rose.jpg')\n",
    "\n",
    "print(\"Image Properties\")\n",
    "print(\"- Number of Pixels: \" + str(image.size))\n",
    "print(\"- Shape/Dimensions: \" + str(image.shape))\n",
    "gray_image = cv2.cvtColor(image, cv2.COLOR_BGR2GRAY)\n",
    "print(gray_image.shape) "
   ]
  },
  {
   "cell_type": "code",
   "execution_count": 2,
   "metadata": {},
   "outputs": [
    {
     "name": "stdout",
     "output_type": "stream",
     "text": [
      "(401, 268)\n",
      "(401, 268)\n",
      "(401, 268)\n"
     ]
    }
   ],
   "source": [
    "blue, green, red = cv2.split(image)\n",
    "print(blue.shape) \n",
    "print(green.shape) \n",
    "print(red.shape) "
   ]
  },
  {
   "cell_type": "code",
   "execution_count": 3,
   "metadata": {},
   "outputs": [],
   "source": [
    "cv2.imshow('blue', blue)\n",
    "cv2.imshow('green', green)\n",
    "cv2.imshow('red', red)\n",
    " \n",
    "cv2.waitKey(0)\n",
    "cv2.destroyAllWindows()"
   ]
  },
  {
   "cell_type": "code",
   "execution_count": null,
   "metadata": {},
   "outputs": [],
   "source": [
    "import cv2\n",
    "import numpy\n",
    "img = cv2.imread('C:/Users/jackl/Desktop/rose.jpg')\n",
    "\n",
    "blue, green, red = cv2.split(img)\n",
    " \n",
    " \n",
    "zeros = numpy.zeros(blue.shape, numpy.uint8)\n",
    " \n",
    "blueBGR = cv2.merge((blue,zeros,zeros))\n",
    "greenBGR = cv2.merge((zeros,green,zeros))\n",
    "redBGR = cv2.merge((zeros,zeros,red))\n",
    " \n",
    " \n",
    "cv2.imshow('blue BGR', blueBGR)\n",
    "cv2.imshow('green BGR', greenBGR)\n",
    "cv2.imshow('red BGR', redBGR)\n",
    " \n",
    "cv2.waitKey(0)\n",
    "cv2.destroyAllWindows()"
   ]
  },
  {
   "cell_type": "code",
   "execution_count": null,
   "metadata": {},
   "outputs": [],
   "source": []
  }
 ],
 "metadata": {
  "kernelspec": {
   "display_name": "Python 3",
   "language": "python",
   "name": "python3"
  },
  "language_info": {
   "codemirror_mode": {
    "name": "ipython",
    "version": 3
   },
   "file_extension": ".py",
   "mimetype": "text/x-python",
   "name": "python",
   "nbconvert_exporter": "python",
   "pygments_lexer": "ipython3",
   "version": "3.8.9"
  }
 },
 "nbformat": 4,
 "nbformat_minor": 4
}
