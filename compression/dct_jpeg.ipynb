{
 "cells": [
  {
   "cell_type": "code",
   "execution_count": 1,
   "id": "120e63b2",
   "metadata": {},
   "outputs": [
    {
     "name": "stdout",
     "output_type": "stream",
     "text": [
      "[[0.35355339059327373, 0.35355339059327373, 0.35355339059327373, 0.35355339059327373, 0.35355339059327373, 0.35355339059327373, 0.35355339059327373, 0.35355339059327373], [0.4903926402016152, 0.4157348061512726, 0.27778511650980114, 0.09754516100806417, -0.0975451610080641, -0.277785116509801, -0.4157348061512727, -0.4903926402016152], [0.46193976625564337, 0.19134171618254492, -0.19134171618254486, -0.46193976625564337, -0.4619397662556434, -0.19134171618254517, 0.191341716182545, 0.46193976625564326], [0.4157348061512726, -0.0975451610080641, -0.4903926402016152, -0.2777851165098011, 0.2777851165098009, 0.4903926402016152, 0.09754516100806439, -0.41573480615127256], [0.3535533905932738, -0.35355339059327373, -0.35355339059327384, 0.3535533905932737, 0.35355339059327384, -0.35355339059327334, -0.35355339059327356, 0.3535533905932733], [0.27778511650980114, -0.4903926402016152, 0.09754516100806415, 0.4157348061512728, -0.41573480615127256, -0.09754516100806401, 0.4903926402016153, -0.27778511650980076], [0.19134171618254492, -0.4619397662556434, 0.46193976625564326, -0.19134171618254495, -0.19134171618254528, 0.46193976625564337, -0.4619397662556432, 0.19134171618254478], [0.09754516100806417, -0.2777851165098011, 0.4157348061512728, -0.4903926402016153, 0.49039264020161527, -0.4157348061512725, 0.27778511650980076, -0.09754516100806429]]\n"
     ]
    }
   ],
   "source": [
    "import math\n",
    "n=8\n",
    "rows, cols = (n, n)\n",
    "t = [[0 for i in range(cols)] for j in range(rows)]\n",
    "for i in range(n):\n",
    "    for j in range(n):\n",
    "        if(i==0):\n",
    "            t[i][j]=1/math.sqrt(n)\n",
    "        else:\n",
    "            t[i][j]=math.sqrt(2.0/n)*math.cos((2*j+1)*i*math.pi/2/n)\n",
    "print(t)"
   ]
  },
  {
   "cell_type": "code",
   "execution_count": 35,
   "id": "6b5ea4c0",
   "metadata": {},
   "outputs": [
    {
     "name": "stdout",
     "output_type": "stream",
     "text": [
      "[[ 0.35355339  0.35355339  0.35355339  0.35355339  0.35355339  0.35355339\n",
      "   0.35355339  0.35355339]\n",
      " [ 0.49039264  0.41573481  0.27778512  0.09754516 -0.09754516 -0.27778512\n",
      "  -0.41573481 -0.49039264]\n",
      " [ 0.46193977  0.19134172 -0.19134172 -0.46193977 -0.46193977 -0.19134172\n",
      "   0.19134172  0.46193977]\n",
      " [ 0.41573481 -0.09754516 -0.49039264 -0.27778512  0.27778512  0.49039264\n",
      "   0.09754516 -0.41573481]\n",
      " [ 0.35355339 -0.35355339 -0.35355339  0.35355339  0.35355339 -0.35355339\n",
      "  -0.35355339  0.35355339]\n",
      " [ 0.27778512 -0.49039264  0.09754516  0.41573481 -0.41573481 -0.09754516\n",
      "   0.49039264 -0.27778512]\n",
      " [ 0.19134172 -0.46193977  0.46193977 -0.19134172 -0.19134172  0.46193977\n",
      "  -0.46193977  0.19134172]\n",
      " [ 0.09754516 -0.27778512  0.41573481 -0.49039264  0.49039264 -0.41573481\n",
      "   0.27778512 -0.09754516]]\n"
     ]
    }
   ],
   "source": [
    "import math\n",
    "t=[]\n",
    "t = [[0 for i in range(cols)] for j in range(rows)]\n",
    "for i in range(n):\n",
    "    for j in range(n):\n",
    "        if(i==0):\n",
    "            t[i][j]=1/math.sqrt(n)\n",
    "        else:\n",
    "            t[i][j]=math.sqrt(2.0/n)*math.cos((2*j+1)*i*math.pi/2/n)\n",
    "print(np.array(t))"
   ]
  },
  {
   "cell_type": "code",
   "execution_count": 40,
   "id": "e46f9923",
   "metadata": {},
   "outputs": [
    {
     "name": "stdout",
     "output_type": "stream",
     "text": [
      "[[154 123 123 123 123 123 123 136]\n",
      " [192 180 136 154 154 154 136 110]\n",
      " [254 198 154 154 180 154 123 123]\n",
      " [239 180 136 180 180 166 123 123]\n",
      " [180 154 136 167 166 149 136 136]\n",
      " [128 136 123 136 154 180 198 154]\n",
      " [123 105 110 149 136 136 180 166]\n",
      " [110 136 123 123 123 136 154 136]]\n"
     ]
    }
   ],
   "source": [
    "imag=[[154,123,123,123,123,123,123,136],[192,180,136,154,154,154,136,110],[254,198,154,154,180,154,123,123]\n",
    "     ,[239,180,136,180,180,166,123,123],[180,154,136,167,166,149,136,136],[128,136,123,136,154,180,198,154]\n",
    "     ,[123,105,110,149,136,136,180,166],[110,136,123,123,123,136,154,136]]\n",
    "print(np.array(imag))"
   ]
  },
  {
   "cell_type": "code",
   "execution_count": 41,
   "id": "44b8a2bb",
   "metadata": {},
   "outputs": [
    {
     "name": "stdout",
     "output_type": "stream",
     "text": [
      "[[ 26  -5  -5  -5  -5  -5  -5   8]\n",
      " [ 64  52   8  26  26  26   8 -18]\n",
      " [126  70  26  26  52  26  -5  -5]\n",
      " [111  52   8  52  52  38  -5  -5]\n",
      " [ 52  26   8  39  38  21   8   8]\n",
      " [  0   8  -5   8  26  52  70  26]\n",
      " [ -5 -23 -18  21   8   8  52  38]\n",
      " [-18   8  -5  -5  -5   8  26   8]]\n",
      "[[ 0.35355339  0.35355339  0.35355339  0.35355339  0.35355339  0.35355339\n",
      "   0.35355339  0.35355339]\n",
      " [ 0.49039264  0.41573481  0.27778512  0.09754516 -0.09754516 -0.27778512\n",
      "  -0.41573481 -0.49039264]\n",
      " [ 0.46193977  0.19134172 -0.19134172 -0.46193977 -0.46193977 -0.19134172\n",
      "   0.19134172  0.46193977]\n",
      " [ 0.41573481 -0.09754516 -0.49039264 -0.27778512  0.27778512  0.49039264\n",
      "   0.09754516 -0.41573481]\n",
      " [ 0.35355339 -0.35355339 -0.35355339  0.35355339  0.35355339 -0.35355339\n",
      "  -0.35355339  0.35355339]\n",
      " [ 0.27778512 -0.49039264  0.09754516  0.41573481 -0.41573481 -0.09754516\n",
      "   0.49039264 -0.27778512]\n",
      " [ 0.19134172 -0.46193977  0.46193977 -0.19134172 -0.19134172  0.46193977\n",
      "  -0.46193977  0.19134172]\n",
      " [ 0.09754516 -0.27778512  0.41573481 -0.49039264  0.49039264 -0.41573481\n",
      "   0.27778512 -0.09754516]]\n",
      "[[ 0.35355339  0.49039264  0.46193977  0.41573481  0.35355339  0.27778512\n",
      "   0.19134172  0.09754516]\n",
      " [ 0.35355339  0.41573481  0.19134172 -0.09754516 -0.35355339 -0.49039264\n",
      "  -0.46193977 -0.27778512]\n",
      " [ 0.35355339  0.27778512 -0.19134172 -0.49039264 -0.35355339  0.09754516\n",
      "   0.46193977  0.41573481]\n",
      " [ 0.35355339  0.09754516 -0.46193977 -0.27778512  0.35355339  0.41573481\n",
      "  -0.19134172 -0.49039264]\n",
      " [ 0.35355339 -0.09754516 -0.46193977  0.27778512  0.35355339 -0.41573481\n",
      "  -0.19134172  0.49039264]\n",
      " [ 0.35355339 -0.27778512 -0.19134172  0.49039264 -0.35355339 -0.09754516\n",
      "   0.46193977 -0.41573481]\n",
      " [ 0.35355339 -0.41573481  0.19134172  0.09754516 -0.35355339  0.49039264\n",
      "  -0.46193977  0.27778512]\n",
      " [ 0.35355339 -0.49039264  0.46193977 -0.41573481  0.35355339 -0.27778512\n",
      "   0.19134172 -0.09754516]]\n"
     ]
    }
   ],
   "source": [
    "import numpy as np\n",
    "a = [[128] * n] * n\n",
    "resident=np.array(imag)-np.array(a)\n",
    "print(resident)\n",
    "print(np.array(t))\n",
    "print(np.transpose(t))"
   ]
  },
  {
   "cell_type": "code",
   "execution_count": 42,
   "id": "d54a7417",
   "metadata": {
    "scrolled": true
   },
   "outputs": [
    {
     "name": "stdout",
     "output_type": "stream",
     "text": [
      "[[ 1.62250000e+02  4.05989816e+01  2.00026918e+01  7.23294009e+01\n",
      "   3.02500000e+01  1.24848354e+01 -1.96505043e+01 -1.14971452e+01]\n",
      " [ 3.04792937e+01  1.08415970e+02  1.04730992e+01  3.22925175e+01\n",
      "   2.76990885e+01 -1.55048925e+01  1.84075948e+01 -1.99566961e+00]\n",
      " [-9.41445075e+01 -6.00511329e+01  1.22980970e+01 -4.34188963e+01\n",
      "  -3.12878702e+01  6.06690905e+00 -3.33058262e+00  7.14403453e+00]\n",
      " [-3.85675018e+01 -8.33575149e+01 -5.41238759e+00 -2.21698602e+01\n",
      "  -1.35195286e+01  1.54918916e+01 -1.33187181e+00  3.53461026e+00]\n",
      " [-3.12500000e+01  1.79340053e+01 -5.52404638e+00 -1.23555600e+01\n",
      "   1.42500000e+01 -5.96236717e+00  1.14884686e+01 -6.02384997e+00]\n",
      " [-8.64681444e-01 -1.17637950e+01  1.27762672e+01  1.81231416e-01\n",
      "   2.80712006e+01  1.25731431e+01  8.35255975e+00  2.93590135e+00]\n",
      " [ 4.62997947e+00 -2.42141001e+00  1.21694174e+01  6.56145155e+00\n",
      "  -1.87001117e+01 -1.27532960e+01  7.70190296e+00  1.20313688e+01]\n",
      " [-9.95302906e+00  1.11936702e+01  7.81185357e+00 -1.62885238e+01\n",
      "   2.14648676e+01  2.17022289e-02  5.90622636e+00  1.06807473e+01]]\n",
      "162.24999999999997\n"
     ]
    }
   ],
   "source": [
    "D1=np.matmul(np.array(t),resident)\n",
    "D2=np.matmul(D1,np.transpose(t))\n",
    "print(D2)\n",
    "print(D2[0,0])"
   ]
  },
  {
   "cell_type": "code",
   "execution_count": 45,
   "id": "666ff75a",
   "metadata": {},
   "outputs": [
    {
     "name": "stdout",
     "output_type": "stream",
     "text": [
      "[[ 16  11  10  16  24  40  51  61]\n",
      " [ 12  12  14  19  26  58  60  55]\n",
      " [ 14  13  16  24  40  57  69  56]\n",
      " [ 14  17  22  29  51  87  80  62]\n",
      " [ 18  22  37  56  68 109 103  77]\n",
      " [ 24  35  55  64  81 104 113  92]\n",
      " [ 49  64  78  87 103 121 120 101]\n",
      " [ 72  92  95  98 112 100 103  99]]\n"
     ]
    }
   ],
   "source": [
    "quatization=[[16,11,10,16,24,40,51,61],[12,12,14,19,26,58,60,55],[14,13,16,24,40,57,69,56]\n",
    "     ,[14,17,22,29,51,87,80,62],[18,22,37,56,68,109,103,77],[24,35,55,64,81,104,113,92]\n",
    "     ,[49,64,78,87,103,121,120,101],[72,92,95,98,112,100,103,99]]\n",
    "print(np.array(quatization))"
   ]
  },
  {
   "cell_type": "code",
   "execution_count": 68,
   "id": "f352940d",
   "metadata": {
    "scrolled": true
   },
   "outputs": [
    {
     "name": "stdout",
     "output_type": "stream",
     "text": [
      "[[10  4  2  5  1  0  0  0]\n",
      " [ 3  9  1  2  1  0  0  0]\n",
      " [-7 -5  1 -2 -1  0  0  0]\n",
      " [-3 -5  0 -1  0  0  0  0]\n",
      " [-2  1  0  0  0  0  0  0]\n",
      " [ 0  0  0  0  0  0  0  0]\n",
      " [ 0  0  0  0  0  0  0  0]\n",
      " [ 0  0  0  0  0  0  0  0]]\n"
     ]
    }
   ],
   "source": [
    "compressed_img = [[0 for i in range(n)] for j in range(n)]\n",
    "for i in range(n):\n",
    "    for j in range(n):\n",
    "        compressed_img[i][j]=round(np.array(D2)[i,j]/np.array(quatization)[i,j])\n",
    "print(np.array(compressed_img))"
   ]
  },
  {
   "cell_type": "code",
   "execution_count": 72,
   "id": "9cb803ff",
   "metadata": {
    "scrolled": true
   },
   "outputs": [
    {
     "name": "stdout",
     "output_type": "stream",
     "text": [
      "[[160  44  20  80  24   0   0   0]\n",
      " [ 36 108  14  38  26   0   0   0]\n",
      " [-98 -65  16 -48 -40   0   0   0]\n",
      " [-42 -85   0 -29   0   0   0   0]\n",
      " [-36  22   0   0   0   0   0   0]\n",
      " [  0   0   0   0   0   0   0   0]\n",
      " [  0   0   0   0   0   0   0   0]\n",
      " [  0   0   0   0   0   0   0   0]]\n"
     ]
    }
   ],
   "source": [
    "reconstruct=[[0 for i in range(n)] for j in range(n)]\n",
    "for i in range(n):\n",
    "    for j in range(n):\n",
    "        reconstruct[i][j]=np.array(compressed_img)[i,j]*np.array(quatization)[i,j]\n",
    "print(np.array(reconstruct))\n",
    "        "
   ]
  },
  {
   "cell_type": "code",
   "execution_count": 73,
   "id": "fbf1a21e",
   "metadata": {},
   "outputs": [
    {
     "name": "stdout",
     "output_type": "stream",
     "text": [
      "[[ 21.0273001    5.97629413  -8.67882808 -11.77259762  -6.85553496\n",
      "   -2.30714869  -0.63883177  -0.24716454]\n",
      " [ 75.57894855  40.04333817  12.42272956  15.61077217  27.10249145\n",
      "   22.46167858   7.05083176  -3.38871244]\n",
      " [124.80005101  67.33313686  27.17981894  38.23142773  54.88468049\n",
      "   37.17301999   3.06502266 -17.08924785]\n",
      " [116.56422396  56.95298416  20.03831505  38.0704498   55.56614254\n",
      "   32.44623523  -3.66811745 -20.99549684]\n",
      " [ 59.50566369  21.39371022   4.18700469  26.67910472  44.42837212\n",
      "   31.46366425  12.9668558    8.48722917]\n",
      " [  3.55661884  -5.4526821   -3.38453989  14.86279648  31.95485081\n",
      "   37.65757261  39.81802474  43.48388431]\n",
      " [-18.57752636  -8.61317547  -2.46891889  -0.1635312   11.38525277\n",
      "   30.13471709  39.57942539  37.76724324]\n",
      " [-17.22421911  -1.1431078   -0.51211285 -14.36570537  -9.88149052\n",
      "   12.53894838  18.98413471   7.01372287]]\n",
      "21.027300099160676\n"
     ]
    }
   ],
   "source": [
    "DD1=np.matmul(np.transpose(t),np.array(reconstruct))\n",
    "DD2=np.matmul(DD1,np.array(t))\n",
    "print(DD2)\n",
    "print(DD2[0,0])"
   ]
  },
  {
   "cell_type": "code",
   "execution_count": 77,
   "id": "dbcc46d8",
   "metadata": {},
   "outputs": [
    {
     "name": "stdout",
     "output_type": "stream",
     "text": [
      "[[149 134 119 116 121 126 127 128]\n",
      " [204 168 140 144 155 150 135 125]\n",
      " [253 195 155 166 183 165 131 111]\n",
      " [245 185 148 166 184 160 124 107]\n",
      " [188 149 132 155 172 159 141 136]\n",
      " [132 123 125 143 160 166 168 171]\n",
      " [109 119 126 128 139 158 168 166]\n",
      " [111 127 127 114 118 141 147 135]]\n"
     ]
    }
   ],
   "source": [
    "DD3=[[0 for i in range(n)] for j in range(n)]\n",
    "for i in range(n):\n",
    "    for j in range(n):\n",
    "        DD3[i][j]=round(DD2[i][j])+128\n",
    "print(np.array(DD3))"
   ]
  },
  {
   "cell_type": "code",
   "execution_count": 85,
   "id": "978ad9c9",
   "metadata": {},
   "outputs": [
    {
     "name": "stdout",
     "output_type": "stream",
     "text": [
      "Help on list object:\n",
      "\n",
      "class list(object)\n",
      " |  list(iterable=(), /)\n",
      " |  \n",
      " |  Built-in mutable sequence.\n",
      " |  \n",
      " |  If no argument is given, the constructor creates a new empty list.\n",
      " |  The argument must be an iterable if specified.\n",
      " |  \n",
      " |  Methods defined here:\n",
      " |  \n",
      " |  __add__(self, value, /)\n",
      " |      Return self+value.\n",
      " |  \n",
      " |  __contains__(self, key, /)\n",
      " |      Return key in self.\n",
      " |  \n",
      " |  __delitem__(self, key, /)\n",
      " |      Delete self[key].\n",
      " |  \n",
      " |  __eq__(self, value, /)\n",
      " |      Return self==value.\n",
      " |  \n",
      " |  __ge__(self, value, /)\n",
      " |      Return self>=value.\n",
      " |  \n",
      " |  __getattribute__(self, name, /)\n",
      " |      Return getattr(self, name).\n",
      " |  \n",
      " |  __getitem__(...)\n",
      " |      x.__getitem__(y) <==> x[y]\n",
      " |  \n",
      " |  __gt__(self, value, /)\n",
      " |      Return self>value.\n",
      " |  \n",
      " |  __iadd__(self, value, /)\n",
      " |      Implement self+=value.\n",
      " |  \n",
      " |  __imul__(self, value, /)\n",
      " |      Implement self*=value.\n",
      " |  \n",
      " |  __init__(self, /, *args, **kwargs)\n",
      " |      Initialize self.  See help(type(self)) for accurate signature.\n",
      " |  \n",
      " |  __iter__(self, /)\n",
      " |      Implement iter(self).\n",
      " |  \n",
      " |  __le__(self, value, /)\n",
      " |      Return self<=value.\n",
      " |  \n",
      " |  __len__(self, /)\n",
      " |      Return len(self).\n",
      " |  \n",
      " |  __lt__(self, value, /)\n",
      " |      Return self<value.\n",
      " |  \n",
      " |  __mul__(self, value, /)\n",
      " |      Return self*value.\n",
      " |  \n",
      " |  __ne__(self, value, /)\n",
      " |      Return self!=value.\n",
      " |  \n",
      " |  __repr__(self, /)\n",
      " |      Return repr(self).\n",
      " |  \n",
      " |  __reversed__(self, /)\n",
      " |      Return a reverse iterator over the list.\n",
      " |  \n",
      " |  __rmul__(self, value, /)\n",
      " |      Return value*self.\n",
      " |  \n",
      " |  __setitem__(self, key, value, /)\n",
      " |      Set self[key] to value.\n",
      " |  \n",
      " |  __sizeof__(self, /)\n",
      " |      Return the size of the list in memory, in bytes.\n",
      " |  \n",
      " |  append(self, object, /)\n",
      " |      Append object to the end of the list.\n",
      " |  \n",
      " |  clear(self, /)\n",
      " |      Remove all items from list.\n",
      " |  \n",
      " |  copy(self, /)\n",
      " |      Return a shallow copy of the list.\n",
      " |  \n",
      " |  count(self, value, /)\n",
      " |      Return number of occurrences of value.\n",
      " |  \n",
      " |  extend(self, iterable, /)\n",
      " |      Extend list by appending elements from the iterable.\n",
      " |  \n",
      " |  index(self, value, start=0, stop=9223372036854775807, /)\n",
      " |      Return first index of value.\n",
      " |      \n",
      " |      Raises ValueError if the value is not present.\n",
      " |  \n",
      " |  insert(self, index, object, /)\n",
      " |      Insert object before index.\n",
      " |  \n",
      " |  pop(self, index=-1, /)\n",
      " |      Remove and return item at index (default last).\n",
      " |      \n",
      " |      Raises IndexError if list is empty or index is out of range.\n",
      " |  \n",
      " |  remove(self, value, /)\n",
      " |      Remove first occurrence of value.\n",
      " |      \n",
      " |      Raises ValueError if the value is not present.\n",
      " |  \n",
      " |  reverse(self, /)\n",
      " |      Reverse *IN PLACE*.\n",
      " |  \n",
      " |  sort(self, /, *, key=None, reverse=False)\n",
      " |      Sort the list in ascending order and return None.\n",
      " |      \n",
      " |      The sort is in-place (i.e. the list itself is modified) and stable (i.e. the\n",
      " |      order of two equal elements is maintained).\n",
      " |      \n",
      " |      If a key function is given, apply it once to each list item and sort them,\n",
      " |      ascending or descending, according to their function values.\n",
      " |      \n",
      " |      The reverse flag can be set to sort in descending order.\n",
      " |  \n",
      " |  ----------------------------------------------------------------------\n",
      " |  Class methods defined here:\n",
      " |  \n",
      " |  __class_getitem__(...) from builtins.type\n",
      " |      See PEP 585\n",
      " |  \n",
      " |  ----------------------------------------------------------------------\n",
      " |  Static methods defined here:\n",
      " |  \n",
      " |  __new__(*args, **kwargs) from builtins.type\n",
      " |      Create and return a new object.  See help(type) for accurate signature.\n",
      " |  \n",
      " |  ----------------------------------------------------------------------\n",
      " |  Data and other attributes defined here:\n",
      " |  \n",
      " |  __hash__ = None\n",
      "\n"
     ]
    }
   ],
   "source": [
    "a=[]\n",
    "type(a)\n",
    "isinstance(a, list)\n",
    "help(a)"
   ]
  },
  {
   "cell_type": "code",
   "execution_count": 87,
   "id": "94e2d3da",
   "metadata": {},
   "outputs": [
    {
     "data": {
      "text/plain": [
       "list"
      ]
     },
     "execution_count": 87,
     "metadata": {},
     "output_type": "execute_result"
    }
   ],
   "source": [
    "DD3=[[0 for i in range(n)] for j in range(n)]\n",
    "type(DD3)"
   ]
  },
  {
   "cell_type": "code",
   "execution_count": 96,
   "id": "097e0df4",
   "metadata": {},
   "outputs": [
    {
     "data": {
      "text/plain": [
       "list"
      ]
     },
     "execution_count": 96,
     "metadata": {},
     "output_type": "execute_result"
    }
   ],
   "source": [
    "a=[1,2,3]\n",
    "type(a)"
   ]
  },
  {
   "cell_type": "code",
   "execution_count": 92,
   "id": "cdc05a91",
   "metadata": {},
   "outputs": [
    {
     "data": {
      "text/plain": [
       "3"
      ]
     },
     "execution_count": 92,
     "metadata": {},
     "output_type": "execute_result"
    }
   ],
   "source": [
    "cars = [\"Ford\", \"Volvo\", \"BMW\"]\n",
    "type(cars)\n",
    "len(cars)"
   ]
  },
  {
   "cell_type": "code",
   "execution_count": 97,
   "id": "215f4a94",
   "metadata": {},
   "outputs": [
    {
     "name": "stdout",
     "output_type": "stream",
     "text": [
      "[1, 3]\n"
     ]
    }
   ],
   "source": [
    "a.remove(2)\n",
    "print(a)"
   ]
  },
  {
   "cell_type": "code",
   "execution_count": 102,
   "id": "093b6e55",
   "metadata": {},
   "outputs": [
    {
     "name": "stdout",
     "output_type": "stream",
     "text": [
      "<class 'str'>\n",
      "<class 'type'>\n",
      "<class 'type'>\n",
      "True\n",
      "False\n"
     ]
    }
   ],
   "source": [
    "print(type('string'))\n",
    "print(type(type('string')))\n",
    "print(type(type(1)))\n",
    "print(type('string') is str)\n",
    "print(type('string') is int)\n"
   ]
  }
 ],
 "metadata": {
  "kernelspec": {
   "display_name": "Python 3",
   "language": "python",
   "name": "python3"
  },
  "language_info": {
   "codemirror_mode": {
    "name": "ipython",
    "version": 3
   },
   "file_extension": ".py",
   "mimetype": "text/x-python",
   "name": "python",
   "nbconvert_exporter": "python",
   "pygments_lexer": "ipython3",
   "version": "3.9.0"
  }
 },
 "nbformat": 4,
 "nbformat_minor": 5
}
